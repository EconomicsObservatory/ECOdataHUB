{
 "cells": [
  {
   "cell_type": "code",
   "execution_count": 6,
   "metadata": {},
   "outputs": [],
   "source": [
    "import json, sys, os, requests\n",
    "import altair as alt\n",
    "from altair import expr, datum\n",
    "import matplotlib.pyplot as plt\n",
    "import numpy as np\n",
    "import pandas as pd"
   ]
  },
  {
   "cell_type": "code",
   "execution_count": 26,
   "metadata": {},
   "outputs": [],
   "source": [
    "def get_ons_data_ts(dataset, series, save=True, api_path=\"https://api.ons.gov.uk\"):\n",
    "    r = requests.get(\n",
    "        api_path\n",
    "        + \"/timeseries/\"\n",
    "        + series.lower()\n",
    "        + \"/dataset/\"\n",
    "        + dataset.lower()\n",
    "        + \"/data\"\n",
    "    )\n",
    "    content = json.loads(r.content)\n",
    "    if save:\n",
    "        print(\"Saving to local mirror...\")\n",
    "        open(\"datasets/ons/\" + dataset + \"/\" + series + \".json\", \"w\").write(\n",
    "            json.dumps(content)\n",
    "        )\n",
    "        print(\"OK!\")\n",
    "    return content"
   ]
  },
  {
   "cell_type": "code",
   "execution_count": 101,
   "metadata": {},
   "outputs": [
    {
     "name": "stdout",
     "output_type": "stream",
     "text": [
      "Saving to local mirror...\n",
      "OK!\n"
     ]
    }
   ],
   "source": [
    "dataset='lms'\n",
    "series=\"mgsx\"\n",
    "mgsx = get_ons_data_ts(dataset, series)"
   ]
  },
  {
   "cell_type": "code",
   "execution_count": 99,
   "metadata": {},
   "outputs": [
    {
     "data": {
      "text/html": [
       "\n",
       "<div id=\"altair-viz-3ef4a0a758084dee88766b7cb0ae68d9\"></div>\n",
       "<script type=\"text/javascript\">\n",
       "  (function(spec, embedOpt){\n",
       "    let outputDiv = document.currentScript.previousElementSibling;\n",
       "    if (outputDiv.id !== \"altair-viz-3ef4a0a758084dee88766b7cb0ae68d9\") {\n",
       "      outputDiv = document.getElementById(\"altair-viz-3ef4a0a758084dee88766b7cb0ae68d9\");\n",
       "    }\n",
       "    const paths = {\n",
       "      \"vega\": \"https://cdn.jsdelivr.net/npm//vega@5?noext\",\n",
       "      \"vega-lib\": \"https://cdn.jsdelivr.net/npm//vega-lib?noext\",\n",
       "      \"vega-lite\": \"https://cdn.jsdelivr.net/npm//vega-lite@4.8.1?noext\",\n",
       "      \"vega-embed\": \"https://cdn.jsdelivr.net/npm//vega-embed@6?noext\",\n",
       "    };\n",
       "\n",
       "    function loadScript(lib) {\n",
       "      return new Promise(function(resolve, reject) {\n",
       "        var s = document.createElement('script');\n",
       "        s.src = paths[lib];\n",
       "        s.async = true;\n",
       "        s.onload = () => resolve(paths[lib]);\n",
       "        s.onerror = () => reject(`Error loading script: ${paths[lib]}`);\n",
       "        document.getElementsByTagName(\"head\")[0].appendChild(s);\n",
       "      });\n",
       "    }\n",
       "\n",
       "    function showError(err) {\n",
       "      outputDiv.innerHTML = `<div class=\"error\" style=\"color:red;\">${err}</div>`;\n",
       "      throw err;\n",
       "    }\n",
       "\n",
       "    function displayChart(vegaEmbed) {\n",
       "      vegaEmbed(outputDiv, spec, embedOpt)\n",
       "        .catch(err => showError(`Javascript Error: ${err.message}<br>This usually means there's a typo in your chart specification. See the javascript console for the full traceback.`));\n",
       "    }\n",
       "\n",
       "    if(typeof define === \"function\" && define.amd) {\n",
       "      requirejs.config({paths});\n",
       "      require([\"vega-embed\"], displayChart, err => showError(`Error loading script: ${err.message}`));\n",
       "    } else if (typeof vegaEmbed === \"function\") {\n",
       "      displayChart(vegaEmbed);\n",
       "    } else {\n",
       "      loadScript(\"vega\")\n",
       "        .then(() => loadScript(\"vega-lite\"))\n",
       "        .then(() => loadScript(\"vega-embed\"))\n",
       "        .catch(showError)\n",
       "        .then(() => displayChart(vegaEmbed));\n",
       "    }\n",
       "  })({\"config\": {\"view\": {\"continuousWidth\": 400, \"continuousHeight\": 300}}, \"layer\": [{\"mark\": {\"type\": \"line\", \"interpolate\": \"basis\"}, \"encoding\": {\"x\": {\"type\": \"temporal\", \"field\": \"date\"}, \"y\": {\"type\": \"quantitative\", \"field\": \"value\"}}}, {\"mark\": \"point\", \"encoding\": {\"opacity\": {\"value\": 0}, \"x\": {\"type\": \"temporal\", \"field\": \"date\"}}, \"selection\": {\"selector022\": {\"type\": \"single\", \"nearest\": true, \"on\": \"mouseover\", \"fields\": [\"date\"], \"empty\": \"none\"}}}, {\"mark\": \"point\", \"encoding\": {\"opacity\": {\"condition\": {\"value\": 1, \"selection\": \"selector022\"}, \"value\": 0}, \"x\": {\"type\": \"temporal\", \"field\": \"date\"}, \"y\": {\"type\": \"quantitative\", \"field\": \"value\"}}}, {\"mark\": {\"type\": \"rule\", \"color\": \"gray\"}, \"encoding\": {\"x\": {\"type\": \"temporal\", \"field\": \"date\"}}, \"transform\": [{\"filter\": {\"selection\": \"selector022\"}}]}, {\"mark\": {\"type\": \"text\", \"align\": \"left\", \"dx\": -25, \"dy\": 35}, \"encoding\": {\"text\": {\"condition\": {\"type\": \"quantitative\", \"field\": \"value\", \"selection\": \"selector022\"}, \"value\": \" \"}, \"x\": {\"type\": \"temporal\", \"field\": \"date\"}, \"y\": {\"type\": \"quantitative\", \"field\": \"value\"}}}], \"data\": {\"url\": \"https://raw.githubusercontent.com/EconomicsObservatory/ECOdataHUB/main/datasets/ons/lms/mgsx.json\", \"format\": {\"type\": \"json\", \"property\": \"months\"}}, \"height\": 300, \"width\": 600, \"$schema\": \"https://vega.github.io/schema/vega-lite/v4.8.1.json\"}, {\"mode\": \"vega-lite\"});\n",
       "</script>"
      ],
      "text/plain": [
       "alt.LayerChart(...)"
      ]
     },
     "execution_count": 99,
     "metadata": {},
     "output_type": "execute_result"
    }
   ],
   "source": [
    "base = alt.Chart(\n",
    "    alt.Data(\n",
    "        url=\"https://raw.githubusercontent.com/EconomicsObservatory/ECOdataHUB/main/datasets/ons/lms/mgsx.json\",\n",
    "        # url=\"https://api.ons.gov.uk/timeseries/mgsx/dataset/lms/data\",\n",
    "        format=alt.DataFormat(type=\"json\", property=\"months\"),\n",
    "    )\n",
    ").encode(x=\"date:T\")\n",
    "line = base.mark_line(interpolate=\"basis\").encode(\n",
    "    y=\"value:Q\",\n",
    "    #     color='category:N'\n",
    ")\n",
    "\n",
    "# Create a selection that chooses the nearest point & selects based on x-value\n",
    "nearest = alt.selection(\n",
    "    type=\"single\", nearest=True, on=\"mouseover\", fields=[\"date\"], empty=\"none\"\n",
    ")\n",
    "# Transparent selectors across the chart. This is what tells us\n",
    "# the x-value of the cursor\n",
    "selectors = (\n",
    "    base.mark_point()\n",
    "    .encode(\n",
    "        opacity=alt.value(0),\n",
    "    )\n",
    "    .add_selection(nearest)\n",
    ")\n",
    "\n",
    "# Draw points on the line, and highlight based on selection\n",
    "points = line.mark_point().encode(\n",
    "    opacity=alt.condition(nearest, alt.value(1), alt.value(0))\n",
    ")\n",
    "\n",
    "# Draw text labels near the points, and highlight based on selection\n",
    "text = line.mark_text(align=\"left\", dx=-25, dy=35).encode(\n",
    "    text=alt.condition(nearest, \"value:Q\", alt.value(\" \"))\n",
    ")\n",
    "\n",
    "# Draw a rule at the location of the selection\n",
    "rules = base.mark_rule(color=\"gray\").transform_filter(nearest)\n",
    "\n",
    "# Put the five layers into a chart and bind the data\n",
    "alt.layer(line, selectors, points, rules, text).properties(width=600, height=300)"
   ]
  },
  {
   "cell_type": "code",
   "execution_count": 102,
   "metadata": {},
   "outputs": [
    {
     "data": {
      "text/html": [
       "\n",
       "<div id=\"altair-viz-6537b17311c049f2ad418c1987bd0ecf\"></div>\n",
       "<script type=\"text/javascript\">\n",
       "  (function(spec, embedOpt){\n",
       "    let outputDiv = document.currentScript.previousElementSibling;\n",
       "    if (outputDiv.id !== \"altair-viz-6537b17311c049f2ad418c1987bd0ecf\") {\n",
       "      outputDiv = document.getElementById(\"altair-viz-6537b17311c049f2ad418c1987bd0ecf\");\n",
       "    }\n",
       "    const paths = {\n",
       "      \"vega\": \"https://cdn.jsdelivr.net/npm//vega@5?noext\",\n",
       "      \"vega-lib\": \"https://cdn.jsdelivr.net/npm//vega-lib?noext\",\n",
       "      \"vega-lite\": \"https://cdn.jsdelivr.net/npm//vega-lite@4.8.1?noext\",\n",
       "      \"vega-embed\": \"https://cdn.jsdelivr.net/npm//vega-embed@6?noext\",\n",
       "    };\n",
       "\n",
       "    function loadScript(lib) {\n",
       "      return new Promise(function(resolve, reject) {\n",
       "        var s = document.createElement('script');\n",
       "        s.src = paths[lib];\n",
       "        s.async = true;\n",
       "        s.onload = () => resolve(paths[lib]);\n",
       "        s.onerror = () => reject(`Error loading script: ${paths[lib]}`);\n",
       "        document.getElementsByTagName(\"head\")[0].appendChild(s);\n",
       "      });\n",
       "    }\n",
       "\n",
       "    function showError(err) {\n",
       "      outputDiv.innerHTML = `<div class=\"error\" style=\"color:red;\">${err}</div>`;\n",
       "      throw err;\n",
       "    }\n",
       "\n",
       "    function displayChart(vegaEmbed) {\n",
       "      vegaEmbed(outputDiv, spec, embedOpt)\n",
       "        .catch(err => showError(`Javascript Error: ${err.message}<br>This usually means there's a typo in your chart specification. See the javascript console for the full traceback.`));\n",
       "    }\n",
       "\n",
       "    if(typeof define === \"function\" && define.amd) {\n",
       "      requirejs.config({paths});\n",
       "      require([\"vega-embed\"], displayChart, err => showError(`Error loading script: ${err.message}`));\n",
       "    } else if (typeof vegaEmbed === \"function\") {\n",
       "      displayChart(vegaEmbed);\n",
       "    } else {\n",
       "      loadScript(\"vega\")\n",
       "        .then(() => loadScript(\"vega-lite\"))\n",
       "        .then(() => loadScript(\"vega-embed\"))\n",
       "        .catch(showError)\n",
       "        .then(() => displayChart(vegaEmbed));\n",
       "    }\n",
       "  })({\"config\": {\"view\": {\"continuousWidth\": 400, \"continuousHeight\": 300}}, \"data\": {\"url\": \"https://api.ons.gov.uk/timeseries/mgsx/dataset/lms/data\", \"format\": {\"type\": \"json\", \"property\": \"months\"}}, \"mark\": {\"type\": \"line\", \"interpolate\": \"basis\"}, \"encoding\": {\"x\": {\"type\": \"temporal\", \"field\": \"date\"}, \"y\": {\"type\": \"quantitative\", \"field\": \"value\"}}, \"$schema\": \"https://vega.github.io/schema/vega-lite/v4.8.1.json\"}, {\"mode\": \"vega-lite\"});\n",
       "</script>"
      ],
      "text/plain": [
       "alt.Chart(...)"
      ]
     },
     "execution_count": 102,
     "metadata": {},
     "output_type": "execute_result"
    }
   ],
   "source": [
    "line = (\n",
    "    alt.Chart(\n",
    "        alt.Data(\n",
    "            url=\"https://api.ons.gov.uk/timeseries/mgsx/dataset/lms/data\",\n",
    "            format=alt.DataFormat(type=\"json\", property=\"months\"),\n",
    "        )\n",
    "    )\n",
    "    .mark_line(interpolate=\"basis\")\n",
    "    .encode(\n",
    "        x=\"date:T\",\n",
    "        y=\"value:Q\",\n",
    "    )\n",
    ")\n",
    "line.save(\"panels/\" + series + \".json\")\n",
    "line"
   ]
  },
  {
   "cell_type": "code",
   "execution_count": 96,
   "metadata": {},
   "outputs": [
    {
     "data": {
      "text/html": [
       "\n",
       "<div id=\"altair-viz-74c50c5da0b2432fb0a376b40f38b838\"></div>\n",
       "<script type=\"text/javascript\">\n",
       "  (function(spec, embedOpt){\n",
       "    let outputDiv = document.currentScript.previousElementSibling;\n",
       "    if (outputDiv.id !== \"altair-viz-74c50c5da0b2432fb0a376b40f38b838\") {\n",
       "      outputDiv = document.getElementById(\"altair-viz-74c50c5da0b2432fb0a376b40f38b838\");\n",
       "    }\n",
       "    const paths = {\n",
       "      \"vega\": \"https://cdn.jsdelivr.net/npm//vega@5?noext\",\n",
       "      \"vega-lib\": \"https://cdn.jsdelivr.net/npm//vega-lib?noext\",\n",
       "      \"vega-lite\": \"https://cdn.jsdelivr.net/npm//vega-lite@4.8.1?noext\",\n",
       "      \"vega-embed\": \"https://cdn.jsdelivr.net/npm//vega-embed@6?noext\",\n",
       "    };\n",
       "\n",
       "    function loadScript(lib) {\n",
       "      return new Promise(function(resolve, reject) {\n",
       "        var s = document.createElement('script');\n",
       "        s.src = paths[lib];\n",
       "        s.async = true;\n",
       "        s.onload = () => resolve(paths[lib]);\n",
       "        s.onerror = () => reject(`Error loading script: ${paths[lib]}`);\n",
       "        document.getElementsByTagName(\"head\")[0].appendChild(s);\n",
       "      });\n",
       "    }\n",
       "\n",
       "    function showError(err) {\n",
       "      outputDiv.innerHTML = `<div class=\"error\" style=\"color:red;\">${err}</div>`;\n",
       "      throw err;\n",
       "    }\n",
       "\n",
       "    function displayChart(vegaEmbed) {\n",
       "      vegaEmbed(outputDiv, spec, embedOpt)\n",
       "        .catch(err => showError(`Javascript Error: ${err.message}<br>This usually means there's a typo in your chart specification. See the javascript console for the full traceback.`));\n",
       "    }\n",
       "\n",
       "    if(typeof define === \"function\" && define.amd) {\n",
       "      requirejs.config({paths});\n",
       "      require([\"vega-embed\"], displayChart, err => showError(`Error loading script: ${err.message}`));\n",
       "    } else if (typeof vegaEmbed === \"function\") {\n",
       "      displayChart(vegaEmbed);\n",
       "    } else {\n",
       "      loadScript(\"vega\")\n",
       "        .then(() => loadScript(\"vega-lite\"))\n",
       "        .then(() => loadScript(\"vega-embed\"))\n",
       "        .catch(showError)\n",
       "        .then(() => displayChart(vegaEmbed));\n",
       "    }\n",
       "  })({\"config\": {\"view\": {\"continuousWidth\": 400, \"continuousHeight\": 300}}, \"data\": {\"url\": \"https://raw.githubusercontent.com/EconomicsObservatory/ECOdataHUB/main/datasets/ons/lms/mgsx.json\", \"format\": {\"type\": \"json\", \"property\": \"months\"}}, \"mark\": {\"type\": \"line\", \"interpolate\": \"basis\"}, \"encoding\": {\"x\": {\"type\": \"temporal\", \"field\": \"date\"}, \"y\": {\"type\": \"quantitative\", \"field\": \"value\"}}, \"$schema\": \"https://vega.github.io/schema/vega-lite/v4.8.1.json\"}, {\"mode\": \"vega-lite\"});\n",
       "</script>"
      ],
      "text/plain": [
       "alt.Chart(...)"
      ]
     },
     "execution_count": 96,
     "metadata": {},
     "output_type": "execute_result"
    }
   ],
   "source": [
    "line = (\n",
    "    alt.Chart(\n",
    "        alt.Data(\n",
    "            url=\"https://raw.githubusercontent.com/EconomicsObservatory/ECOdataHUB/main/datasets/ons/lms/mgsx.json\",\n",
    "            format=alt.DataFormat(type=\"json\", property=\"months\"),\n",
    "        )\n",
    "    )\n",
    "    .mark_line(interpolate=\"basis\")\n",
    "    .encode(\n",
    "        x=\"date:T\",\n",
    "        y=\"value:Q\",\n",
    "    )\n",
    ")\n",
    "line"
   ]
  }
 ],
 "metadata": {
  "kernelspec": {
   "display_name": "Python 3",
   "language": "python",
   "name": "python3"
  },
  "language_info": {
   "codemirror_mode": {
    "name": "ipython",
    "version": 3
   },
   "file_extension": ".py",
   "mimetype": "text/x-python",
   "name": "python",
   "nbconvert_exporter": "python",
   "pygments_lexer": "ipython3",
   "version": "3.8.8"
  }
 },
 "nbformat": 4,
 "nbformat_minor": 4
}
